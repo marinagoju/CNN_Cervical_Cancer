{
 "cells": [
  {
   "attachments": {},
   "cell_type": "markdown",
   "metadata": {},
   "source": [
    "### <div align=\"center\">***CLASIFICACION DE CITOLOGIAS***</div>\n",
    "***\n",
    "Clasificador automatico de imágenes de citologías cervicovaginales al microscopio óptico mediante redes neuronales (modelo supervisado).\n"
   ]
  },
  {
   "attachments": {},
   "cell_type": "markdown",
   "metadata": {},
   "source": [
    "##### **IMPORT LIBRARIES AND UTILS** "
   ]
  },
  {
   "cell_type": "code",
   "execution_count": null,
   "metadata": {},
   "outputs": [],
   "source": [
    "from utils import IMAGE_HEIGHT, IMAGE_WIDTH, IMAGE_CHANNELS, BATCH_SIZE, EPOCHS, DATA_PATH, balanceData,  loadImage \n",
    "\n",
    "import numpy as np\n",
    "import pandas as pd \n",
    "import matplotlib.pyplot as plt\n",
    "import random\n",
    "import os\n",
    "                    \n",
    "from skimage.io import imread \n",
    "import cv2                    \n",
    "\n",
    "from sklearn.model_selection import train_test_split    # Para el split de los datos del modelo\n",
    "from sklearn.utils import shuffle                       # Para mezclar las muestras y evitar sesgos\n",
    "from keras.preprocessing.image import ImageDataGenerator\n",
    "from keras.models import Sequential\n",
    "from keras.layers import Conv2D, MaxPooling2D, Dropout, Flatten, Dense, Activation"
   ]
  },
  {
   "attachments": {},
   "cell_type": "markdown",
   "metadata": {},
   "source": [
    "##### **TRAINING**"
   ]
  },
  {
   "cell_type": "code",
   "execution_count": null,
   "metadata": {},
   "outputs": [],
   "source": [
    "# CREAMOS UN DATAFRAME CON LOS ARCHIVOS DE IMAGEN\n",
    "\n",
    "file_list = os.listdir(DATA_PATH)\n",
    "df_cito = pd.DataFrame()\n",
    "category = [0 if 'normal' in file else 1 for file in file_list] \n",
    "df_cito['file_name'] = file_list  # Columna con los nombres de los archivos\n",
    "df_cito['category'] = category    # Columna con la categoría de los archivos: 0 celulas normales ; 1 celulas atipicas.\n",
    "df_cito"
   ]
  },
  {
   "cell_type": "code",
   "execution_count": 7,
   "metadata": {},
   "outputs": [
    {
     "data": {
      "image/png": "[encoded data removed]",
      "text/plain": [
       "<Figure size 640x480 with 1 Axes>"
      ]
     },
     "metadata": {},
     "output_type": "display_data"
    }
   ],
   "source": [
    "df_cito['categoria'].value_counts().plot.bar(); # Comprobamos que balance de imágenes en las categorias\n",
    "\n",
    "files = balanceData(DATA_PATH) # Balanceamos las categorias."
   ]
  },
  {
   "attachments": {},
   "cell_type": "markdown",
   "metadata": {},
   "source": [
    "##### **LOAD DATA**\n",
    "\n",
    "Usamos la funcion loadImage() para estandarizar las dimensiones de las imagenes y ajustarlas todas a las misma resolución, es decir hacerles un resize.  \n",
    "\n",
    "Decidimos cargarlas en color porque el scoring del modelo mejoraba considerablemente si no reducimos los features en escala de grises (probamos previamente ambos).\n",
    "\n",
    "El split de los grupos para el entrenamiento del modelo lo determinamos de la siguiente manera:\n",
    "\n",
    "- **Train:**  ```len(df_cito['category']==0) * 2 * 0.8```  \n",
    "\n",
    "- **Test:**  ```len(df_cito['category']==0) * 2 * 0.2```"
   ]
  },
  {
   "cell_type": "code",
   "execution_count": 34,
   "metadata": {},
   "outputs": [],
   "source": [
    "X,Y = loadImage(DATA_PATH, IMAGE_HEIGHT, IMAGE_WIDTH) # Almacenamos las imagenes procesadas, con el resize aplicado."
   ]
  },
  {
   "cell_type": "code",
   "execution_count": 37,
   "metadata": {},
   "outputs": [
    {
     "name": "stdout",
     "output_type": "stream",
     "text": [
      "(3679, 350, 350)\n",
      "(370, 350, 350)\n",
      "(3679,)\n",
      "(370,)\n"
     ]
    }
   ],
   "source": [
    "X_train, X_test, y_train, y_test = train_test_split(X,Y,train_size= 0.8, random_state=14, shuffle=True, stratify=Y) # Split subsets de train-test\n",
    "print(X_train.shape)\n",
    "print(X_test.shape)\n",
    "print(y_train.shape)\n",
    "print(y_test.shape)"
   ]
  },
  {
   "attachments": {},
   "cell_type": "markdown",
   "metadata": {},
   "source": [
    "##### **NORMALIZACION**"
   ]
  },
  {
   "cell_type": "code",
   "execution_count": null,
   "metadata": {},
   "outputs": [],
   "source": [
    "pd.DataFrame(y_train).value_counts(normalize=True)"
   ]
  },
  {
   "cell_type": "code",
   "execution_count": null,
   "metadata": {},
   "outputs": [],
   "source": [
    "pd.DataFrame(y_test).value_counts(normalize=True)"
   ]
  },
  {
   "cell_type": "code",
   "execution_count": 41,
   "metadata": {},
   "outputs": [
    {
     "name": "stdout",
     "output_type": "stream",
     "text": [
      "Min: 0.0004720822839567202\n",
      "Max: 0.00392156862745098\n"
     ]
    }
   ],
   "source": [
    "X_train = X_train/255.0\n",
    "X_test = X_test/255.0\n",
    "\n",
    "print('Min:',np.min(X_train))\n",
    "print('Max:',np.max(X_train))"
   ]
  },
  {
   "attachments": {},
   "cell_type": "markdown",
   "metadata": {},
   "source": [
    "##### **MEZCLA DATOS**"
   ]
  },
  {
   "cell_type": "code",
   "execution_count": 45,
   "metadata": {},
   "outputs": [],
   "source": [
    "X_train, y_train = shuffle(X_train, y_train, random_state=42) # lo obviamos si lo hemos hecho en la funcion de split"
   ]
  },
  {
   "attachments": {},
   "cell_type": "markdown",
   "metadata": {},
   "source": [
    "##### **GUARDAR/CARGAR DATOS**"
   ]
  },
  {
   "cell_type": "code",
   "execution_count": 152,
   "metadata": {},
   "outputs": [],
   "source": [
    "# np.savez('data.npz', X_train=X_train, y_train=y_train, X_test=X_test, y_test=y_test)"
   ]
  },
  {
   "cell_type": "code",
   "execution_count": 153,
   "metadata": {},
   "outputs": [],
   "source": [
    "# data = np.load('data.npz')\n",
    "\n",
    "X_train = data['X_train']\n",
    "X_test = data['X_test']\n",
    "y_train = data['y_train']\n",
    "y_test = data['y_test']"
   ]
  },
  {
   "attachments": {},
   "cell_type": "markdown",
   "metadata": {},
   "source": [
    "##### **MODELO**"
   ]
  },
  {
   "cell_type": "code",
   "execution_count": 154,
   "metadata": {},
   "outputs": [],
   "source": [
    "from keras.models import Sequential\n",
    "from keras.layers import Conv2D, MaxPooling2D, Dropout, Flatten, Dense, Activation\n",
    "\n",
    "model = Sequential()\n",
    "\n",
    "model.add(Conv2D(32, (3,3), activation='relu',\n",
    "                input_shape=(ANCHURA_IMAGEN, ALTURA_IMAGEN, CHANNELS_IMAGEN)))\n",
    "model.add(MaxPooling2D(pool_size=(2,2)))\n",
    "model.add(Dropout(0.25))\n",
    "\n",
    "model.add(Conv2D(64, (3,3), activation='relu'))\n",
    "model.add(MaxPooling2D(pool_size=(2,2)))\n",
    "model.add(Dropout(0.25))\n",
    "\n",
    "model.add(Conv2D(128, (3,3), activation='relu'))\n",
    "model.add(MaxPooling2D(pool_size=(2,2)))\n",
    "model.add(Dropout(0.25))\n",
    "\n",
    "model.add(Flatten())\n",
    "model.add(Dense(512,activation='relu'))\n",
    "model.add(Dropout(0.5))\n",
    "\n",
    "model.add(Dense(1,activation='sigmoid'))\n",
    "\n",
    "'''\n",
    "También podríamos haber usado dos neuronas de salida.\n",
    "Para ello hay que pasar la \"y\" a one-hot-encoding usando \n",
    "\n",
    "from keras.utils import to_categorical\n",
    "y_train = to_categorical(y_train)\n",
    "\n",
    "La capa de salida sería:\n",
    "model.add(Dense(2, activation='softmax'))\n",
    "\n",
    "Si tuviera 3 o más clases tendría que usar esta opción\n",
    "'''\n",
    "\n",
    "model.compile(optimizer='adam', loss='binary_crossentropy',\n",
    "             metrics=['accuracy'])"
   ]
  },
  {
   "attachments": {},
   "cell_type": "markdown",
   "metadata": {},
   "source": [
    "##### **FIT** (Entrenamiento)"
   ]
  },
  {
   "cell_type": "code",
   "execution_count": null,
   "metadata": {},
   "outputs": [],
   "source": [
    "history = model.fit(X_train,y_train,epochs=EPOCHS,\n",
    "                   batch_size=BATCH_SIZE,\n",
    "                   validation_split=0.2)"
   ]
  },
  {
   "cell_type": "code",
   "execution_count": null,
   "metadata": {},
   "outputs": [],
   "source": [
    "pd.DataFrame(history.history).plot(figsize=(8,5))\n",
    "plt.grid(True)\n",
    "plt.show()"
   ]
  },
  {
   "attachments": {},
   "cell_type": "markdown",
   "metadata": {},
   "source": [
    "##### **EVALUACION** "
   ]
  },
  {
   "cell_type": "code",
   "execution_count": null,
   "metadata": {},
   "outputs": [],
   "source": [
    "results = model.evaluate(X_test,y_test)\n",
    "print(\"test loss, test accuracy\", results)"
   ]
  },
  {
   "cell_type": "code",
   "execution_count": null,
   "metadata": {},
   "outputs": [],
   "source": [
    "model.predict(X_test[0])"
   ]
  }
 ],
 "metadata": {
  "kernelspec": {
   "display_name": "CodingSpace",
   "language": "python",
   "name": "python3"
  },
  "language_info": {
   "codemirror_mode": {
    "name": "ipython",
    "version": 3
   },
   "file_extension": ".py",
   "mimetype": "text/x-python",
   "name": "python",
   "nbconvert_exporter": "python",
   "pygments_lexer": "ipython3",
   "version": "3.7.16"
  },
  "orig_nbformat": 4
 },
 "nbformat": 4,
 "nbformat_minor": 2
}
