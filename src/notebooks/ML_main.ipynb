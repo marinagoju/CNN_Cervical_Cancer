{
 "cells": [
  {
   "attachments": {},
   "cell_type": "markdown",
   "metadata": {},
   "source": [
    "### <div align=\"center\">***CLASIFICACION DE CITOLOGIAS***</div>\n",
    "***\n",
    "Clasificador automatico de imágenes de citologías cervicovaginales al microscopio óptico mediante redes neuronales convolucionales (supervisado)."
   ]
  },
  {
   "attachments": {},
   "cell_type": "markdown",
   "metadata": {},
   "source": [
    "##### **IMPORT LIBRARIES AND UTILS** "
   ]
  },
  {
   "cell_type": "code",
   "execution_count": 1,
   "metadata": {},
   "outputs": [],
   "source": [
    "from utils import IMAGE_HEIGHT, IMAGE_WIDTH, IMAGE_CHANNELS, BATCH_SIZE, EPOCHS, DATA_PATH, loadImage, balanceData\n",
    "\n",
    "import numpy as np\n",
    "import pandas as pd \n",
    "import matplotlib.pyplot as plt\n",
    "import os\n",
    "                    \n",
    "from skimage.io import imread \n",
    "import cv2                    \n",
    "\n",
    "from sklearn.model_selection import train_test_split    \n",
    "from sklearn.metrics import confusion_matrix\n",
    "from keras.callbacks import EarlyStopping, ModelCheckpoint\n",
    "from keras.models import Sequential\n",
    "from keras.layers import Conv2D, MaxPooling2D, Dropout, Flatten, Dense"
   ]
  },
  {
   "attachments": {},
   "cell_type": "markdown",
   "metadata": {},
   "source": [
    "##### **TRAINING**"
   ]
  },
  {
   "cell_type": "code",
   "execution_count": 2,
   "metadata": {},
   "outputs": [
    {
     "data": {
      "text/html": [
       "<div>\n",
       "<style scoped>\n",
       "    .dataframe tbody tr th:only-of-type {\n",
       "        vertical-align: middle;\n",
       "    }\n",
       "\n",
       "    .dataframe tbody tr th {\n",
       "        vertical-align: top;\n",
       "    }\n",
       "\n",
       "    .dataframe thead th {\n",
       "        text-align: right;\n",
       "    }\n",
       "</style>\n",
       "<table border=\"1\" class=\"dataframe\">\n",
       "  <thead>\n",
       "    <tr style=\"text-align: right;\">\n",
       "      <th></th>\n",
       "      <th>file_name</th>\n",
       "      <th>category</th>\n",
       "    </tr>\n",
       "  </thead>\n",
       "  <tbody>\n",
       "    <tr>\n",
       "      <th>0</th>\n",
       "      <td>atipica- (1).bmp</td>\n",
       "      <td>1</td>\n",
       "    </tr>\n",
       "    <tr>\n",
       "      <th>1</th>\n",
       "      <td>atipica- (10).bmp</td>\n",
       "      <td>1</td>\n",
       "    </tr>\n",
       "    <tr>\n",
       "      <th>2</th>\n",
       "      <td>atipica- (100).bmp</td>\n",
       "      <td>1</td>\n",
       "    </tr>\n",
       "    <tr>\n",
       "      <th>3</th>\n",
       "      <td>atipica- (1000).bmp</td>\n",
       "      <td>1</td>\n",
       "    </tr>\n",
       "    <tr>\n",
       "      <th>4</th>\n",
       "      <td>atipica- (1001).bmp</td>\n",
       "      <td>1</td>\n",
       "    </tr>\n",
       "    <tr>\n",
       "      <th>...</th>\n",
       "      <td>...</td>\n",
       "      <td>...</td>\n",
       "    </tr>\n",
       "    <tr>\n",
       "      <th>4044</th>\n",
       "      <td>normal- (995).bmp</td>\n",
       "      <td>0</td>\n",
       "    </tr>\n",
       "    <tr>\n",
       "      <th>4045</th>\n",
       "      <td>normal- (996).bmp</td>\n",
       "      <td>0</td>\n",
       "    </tr>\n",
       "    <tr>\n",
       "      <th>4046</th>\n",
       "      <td>normal- (997).bmp</td>\n",
       "      <td>0</td>\n",
       "    </tr>\n",
       "    <tr>\n",
       "      <th>4047</th>\n",
       "      <td>normal- (998).bmp</td>\n",
       "      <td>0</td>\n",
       "    </tr>\n",
       "    <tr>\n",
       "      <th>4048</th>\n",
       "      <td>normal- (999).bmp</td>\n",
       "      <td>0</td>\n",
       "    </tr>\n",
       "  </tbody>\n",
       "</table>\n",
       "<p>4049 rows × 2 columns</p>\n",
       "</div>"
      ],
      "text/plain": [
       "                file_name  category\n",
       "0        atipica- (1).bmp         1\n",
       "1       atipica- (10).bmp         1\n",
       "2      atipica- (100).bmp         1\n",
       "3     atipica- (1000).bmp         1\n",
       "4     atipica- (1001).bmp         1\n",
       "...                   ...       ...\n",
       "4044    normal- (995).bmp         0\n",
       "4045    normal- (996).bmp         0\n",
       "4046    normal- (997).bmp         0\n",
       "4047    normal- (998).bmp         0\n",
       "4048    normal- (999).bmp         0\n",
       "\n",
       "[4049 rows x 2 columns]"
      ]
     },
     "execution_count": 2,
     "metadata": {},
     "output_type": "execute_result"
    }
   ],
   "source": [
    "# DATAFRAME CON LOS ARCHIVOS DE IMAGEN DEL DATASET\n",
    "\n",
    "files_column = os.listdir(DATA_PATH)  # Lista de los nombres de los archivos en el directorio especificado.\n",
    "category_column = [0 if 'normal' in file else 1 for file in files_column]  # Columna con la categoría de cada archivo: 0 celulas normales, 1 celulas atipicas.\n",
    "df_modelo = pd.DataFrame({\n",
    "            'file_name' : files_column,\n",
    "            'category' : category_column })\n",
    "\n",
    "df_modelo"
   ]
  },
  {
   "cell_type": "code",
   "execution_count": 3,
   "metadata": {},
   "outputs": [
    {
     "name": "stdout",
     "output_type": "stream",
     "text": [
      "Category 0: 2411\n",
      "Category 1: 1638\n",
      "Total data: 4049\n"
     ]
    },
    {
     "data": {
      "image/png": "[encoded data removed]",
      "text/plain": [
       "<Figure size 640x480 with 1 Axes>"
      ]
     },
     "metadata": {},
     "output_type": "display_data"
    }
   ],
   "source": [
    "# BALANCE DE DATOS EN LAS CATEGORIAS\n",
    "\n",
    "print(\"Category 0:\", len(df_modelo[df_modelo['category']==0]))\n",
    "print(\"Category 1:\", len(df_modelo[df_modelo['category']==1]))\n",
    "print(\"Total data:\", len(df_modelo['category']))\n",
    "\n",
    "df_modelo['category'].value_counts().plot.bar(); "
   ]
  },
  {
   "cell_type": "code",
   "execution_count": 26,
   "metadata": {},
   "outputs": [],
   "source": [
    "files = balanceData(DATA_PATH)[0] # Balanceamos las categorias y nos quedamos con el dataset balanceado -> [0]"
   ]
  },
  {
   "cell_type": "code",
   "execution_count": 29,
   "metadata": {},
   "outputs": [
    {
     "data": {
      "text/html": [
       "<div>\n",
       "<style scoped>\n",
       "    .dataframe tbody tr th:only-of-type {\n",
       "        vertical-align: middle;\n",
       "    }\n",
       "\n",
       "    .dataframe tbody tr th {\n",
       "        vertical-align: top;\n",
       "    }\n",
       "\n",
       "    .dataframe thead th {\n",
       "        text-align: right;\n",
       "    }\n",
       "</style>\n",
       "<table border=\"1\" class=\"dataframe\">\n",
       "  <thead>\n",
       "    <tr style=\"text-align: right;\">\n",
       "      <th></th>\n",
       "      <th>file_name</th>\n",
       "      <th>category</th>\n",
       "    </tr>\n",
       "  </thead>\n",
       "  <tbody>\n",
       "    <tr>\n",
       "      <th>0</th>\n",
       "      <td>normal- (864).bmp</td>\n",
       "      <td>0</td>\n",
       "    </tr>\n",
       "    <tr>\n",
       "      <th>1</th>\n",
       "      <td>normal- (46).bmp</td>\n",
       "      <td>0</td>\n",
       "    </tr>\n",
       "    <tr>\n",
       "      <th>2</th>\n",
       "      <td>normal- (1176).bmp</td>\n",
       "      <td>0</td>\n",
       "    </tr>\n",
       "    <tr>\n",
       "      <th>3</th>\n",
       "      <td>normal- (1607).bmp</td>\n",
       "      <td>0</td>\n",
       "    </tr>\n",
       "    <tr>\n",
       "      <th>4</th>\n",
       "      <td>normal- (2226).bmp</td>\n",
       "      <td>0</td>\n",
       "    </tr>\n",
       "    <tr>\n",
       "      <th>...</th>\n",
       "      <td>...</td>\n",
       "      <td>...</td>\n",
       "    </tr>\n",
       "    <tr>\n",
       "      <th>3271</th>\n",
       "      <td>atipica- (188).bmp</td>\n",
       "      <td>1</td>\n",
       "    </tr>\n",
       "    <tr>\n",
       "      <th>3272</th>\n",
       "      <td>atipica- (259).bmp</td>\n",
       "      <td>1</td>\n",
       "    </tr>\n",
       "    <tr>\n",
       "      <th>3273</th>\n",
       "      <td>normal- (534).bmp</td>\n",
       "      <td>0</td>\n",
       "    </tr>\n",
       "    <tr>\n",
       "      <th>3274</th>\n",
       "      <td>normal- (626).bmp</td>\n",
       "      <td>0</td>\n",
       "    </tr>\n",
       "    <tr>\n",
       "      <th>3275</th>\n",
       "      <td>atipica- (450).bmp</td>\n",
       "      <td>1</td>\n",
       "    </tr>\n",
       "  </tbody>\n",
       "</table>\n",
       "<p>3276 rows × 2 columns</p>\n",
       "</div>"
      ],
      "text/plain": [
       "               file_name  category\n",
       "0      normal- (864).bmp         0\n",
       "1       normal- (46).bmp         0\n",
       "2     normal- (1176).bmp         0\n",
       "3     normal- (1607).bmp         0\n",
       "4     normal- (2226).bmp         0\n",
       "...                  ...       ...\n",
       "3271  atipica- (188).bmp         1\n",
       "3272  atipica- (259).bmp         1\n",
       "3273   normal- (534).bmp         0\n",
       "3274   normal- (626).bmp         0\n",
       "3275  atipica- (450).bmp         1\n",
       "\n",
       "[3276 rows x 2 columns]"
      ]
     },
     "execution_count": 29,
     "metadata": {},
     "output_type": "execute_result"
    }
   ],
   "source": [
    "# DATAFRAME CON LOS ARCHIVOS DE IMAGEN DEL DATASET (BALANCEADO)\n",
    "\n",
    "category = [0 if 'normal' in file else 1 for file in files] # Columna con la categoría de cada archivo: 0 celulas normales, 1 celulas atipicas.\n",
    "df_cito = pd.DataFrame({\n",
    "            'file_name' : files,\n",
    "             'category' :category }).sample(frac=1, random_state=14, ignore_index=True) # Aleatorizamos el orden de las filas\n",
    "\n",
    "df_cito"
   ]
  },
  {
   "cell_type": "code",
   "execution_count": 28,
   "metadata": {},
   "outputs": [
    {
     "name": "stdout",
     "output_type": "stream",
     "text": [
      "Category 0: 1638\n",
      "Category 1: 1638\n",
      "Total data: 3276\n"
     ]
    },
    {
     "data": {
      "image/png": "[encoded data removed]",
      "text/plain": [
       "<Figure size 640x480 with 1 Axes>"
      ]
     },
     "metadata": {},
     "output_type": "display_data"
    }
   ],
   "source": [
    "print(\"Category 0:\", len(df_cito[df_cito['category']==0]))\n",
    "print(\"Category 1:\", len(df_cito[df_cito['category']==1]))\n",
    "print(\"Total data:\", len(df_cito['category']))\n",
    "df_cito['category'].value_counts().plot.bar(); "
   ]
  },
  {
   "attachments": {},
   "cell_type": "markdown",
   "metadata": {},
   "source": [
    "##### **LOAD AND RESIZE DATA**\n",
    "\n",
    "Usamos la funcion loadImage() para cargar las imágenes y ajustarlas todas a la misma resolución, es decir hacerles un resize (dimensiones).  \n",
    "\n",
    "Decidimos cargarlas en color porque el scoring del modelo mejoraba considerablemente si no reducimos los features con escala de grises (probamos previamente ambas opciones)."
   ]
  },
  {
   "cell_type": "code",
   "execution_count": 30,
   "metadata": {},
   "outputs": [],
   "source": [
    "X,Y = loadImage(files, DATA_PATH, IMAGE_HEIGHT, IMAGE_WIDTH) # Almacenamos las imagenes procesadas, con el resize aplicado."
   ]
  },
  {
   "attachments": {},
   "cell_type": "markdown",
   "metadata": {},
   "source": [
    "##### **SPLIT DE SUBGRUPOS: TRAIN, TEST, VALIDATION**"
   ]
  },
  {
   "attachments": {},
   "cell_type": "markdown",
   "metadata": {},
   "source": [
    "El split de los grupos para el entrenamiento del modelo lo determinamos con la siguiente fórmula:\n",
    "\n",
    "- **Train:**  ```len(df_cito[df_cito['category']==0]) * 2 * 0.8```  \n",
    "\n",
    "- **Test:**  ```len(df_cito[df_cito['category']==0]) * 2 * 0.2```"
   ]
  },
  {
   "cell_type": "code",
   "execution_count": 32,
   "metadata": {},
   "outputs": [
    {
     "name": "stdout",
     "output_type": "stream",
     "text": [
      "(2620, 350, 350, 3)\n",
      "(656, 350, 350, 3)\n",
      "(2620,)\n",
      "(656,)\n"
     ]
    }
   ],
   "source": [
    "X_train, X_test, y_train, y_test = train_test_split(X,Y,train_size= 0.8, random_state=14, shuffle=True, stratify=Y) # Split subsets de train-test\n",
    "print(X_train.shape)\n",
    "print(X_test.shape)\n",
    "print(y_train.shape)\n",
    "print(y_test.shape)"
   ]
  },
  {
   "attachments": {},
   "cell_type": "markdown",
   "metadata": {},
   "source": [
    "##### **ESCALADO DE DATOS**\n",
    "\n",
    "Todos los valores de los pixeles entre 0 y 1."
   ]
  },
  {
   "cell_type": "code",
   "execution_count": 36,
   "metadata": {},
   "outputs": [
    {
     "name": "stdout",
     "output_type": "stream",
     "text": [
      "Min: 0.00019992310649750097\n",
      "Max: 0.00392156862745098\n"
     ]
    }
   ],
   "source": [
    "X_train = X_train/255 # Podríamos aplicar skalearn.preprocessing.MinMaxScaler, pero este cálculo es más óptimo. Valor min de pixel: 0 , Valor max de pixel: 255 \n",
    "X_test = X_test/255\n",
    "\n",
    "print('Min value:',np.min(X_train))\n",
    "print('Max value:',np.max(X_train))"
   ]
  },
  {
   "attachments": {},
   "cell_type": "markdown",
   "metadata": {},
   "source": [
    "##### **GUARDAR/CARGAR DATOS**"
   ]
  },
  {
   "cell_type": "code",
   "execution_count": 35,
   "metadata": {},
   "outputs": [],
   "source": [
    "np.savez('../models/data.npz', X_train  =X_train, y_train = y_train, X_test = X_test, y_test = y_test)"
   ]
  },
  {
   "cell_type": "code",
   "execution_count": 80,
   "metadata": {},
   "outputs": [],
   "source": [
    "data = np.load('../models/data.npz')\n",
    "\n",
    "X_train = data['X_train']\n",
    "X_test = data['X_test']\n",
    "y_train = data['y_train']\n",
    "y_test = data['y_test']"
   ]
  },
  {
   "attachments": {},
   "cell_type": "markdown",
   "metadata": {},
   "source": [
    "##### **ARQUITECTURA DEL MODELO**\n",
    "\n",
    "\n",
    "1. **Tres capas convolucionales** con 32, 64 y 128 kernels respectivamente, con dimensión 3x3 y función de activación relu.  \n",
    "Tras cada capa convolucional se aplica una capa de reducción 2x2 (max pooling) y una capa de dorpout 0.25.\n",
    "\n",
    "2. **Tres capas de clasificación**:\n",
    "   - Input layer. Aplanamiento de los datos en la red (flatten)\n",
    "   - Hiden layer. Compuesta por una capa de 512 neuronas con función de activación relu y una capa de dropout 0.5.\n",
    "   - Output layer. Compuesta por una única neurona con función de activación sigmoide, ideal al ser un clasificador binario. Otra opción sería 2 neuronas con softmax func.\n",
    "\n",
    "- **Opmizador**: adam.  \n",
    "\n",
    "- **Función de error o pérdida**: binary crossentropy."
   ]
  },
  {
   "cell_type": "code",
   "execution_count": null,
   "metadata": {},
   "outputs": [],
   "source": [
    "model = Sequential()\n",
    "\n",
    "## CAPAS DE CONVOLUCION-POOLING\n",
    "\n",
    "# PRIMERA CAPA \n",
    "model.add(Conv2D(filters = 32, kernel_size= (3,3), activation='relu',\n",
    "                input_shape=(IMAGE_WIDTH, IMAGE_HEIGHT, IMAGE_CHANNELS)))\n",
    "model.add(MaxPooling2D(pool_size=(2,2)))\n",
    "model.add(Dropout(0.25))\n",
    "\n",
    "# SEGUNDA CAPA\n",
    "model.add(Conv2D(filters = 64, kernel_size= (3,3), activation='relu'))\n",
    "model.add(MaxPooling2D(pool_size=(2,2)))\n",
    "model.add(Dropout(0.25))\n",
    "\n",
    "# TERCERA CAPA\n",
    "model.add(Conv2D(filters = 128, kernel_size= (3,3), activation='relu'))\n",
    "model.add(MaxPooling2D(pool_size=(2,2)))\n",
    "model.add(Dropout(0.25))\n",
    "\n",
    "\n",
    "## CAPAS DE CLASIFICACION\n",
    "\n",
    "# INPUT LAYER\n",
    "model.add(Flatten())\n",
    "\n",
    "# HIDEN LAYER\n",
    "model.add(Dense(units = 512, activation= 'relu'))\n",
    "model.add(Dropout(0.5))\n",
    "\n",
    "# OUTPUT LAYER \n",
    "model.add(Dense(units= 1, activation= 'sigmoid'))\n",
    "\n",
    "\n",
    "\n",
    "model.compile(optimizer='adam', loss='binary_crossentropy',\n",
    "             metrics=['accuracy']) "
   ]
  },
  {
   "cell_type": "code",
   "execution_count": null,
   "metadata": {},
   "outputs": [],
   "source": [
    "model.summary()"
   ]
  },
  {
   "attachments": {},
   "cell_type": "markdown",
   "metadata": {},
   "source": [
    "##### **FIT (entrenamiento)** "
   ]
  },
  {
   "cell_type": "code",
   "execution_count": null,
   "metadata": {},
   "outputs": [],
   "source": [
    "earlystop =EarlyStopping(patience= 3) # Interrumpe el entrenamiento cuando no ve progreso en el set de validación por tres veces consecutivas.\n",
    "# checkpoint = ModelCheckpoint('../models/checkpoint_model.h5')"
   ]
  },
  {
   "cell_type": "code",
   "execution_count": null,
   "metadata": {},
   "outputs": [],
   "source": [
    "history = model.fit(X_train,y_train,\n",
    "                    epochs = EPOCHS,\n",
    "                    batch_size = BATCH_SIZE,\n",
    "                    callbacks = [earlystop]\n",
    "                    validation_split = 0.2,\n",
    "                    verbose = 1)  "
   ]
  },
  {
   "cell_type": "code",
   "execution_count": null,
   "metadata": {},
   "outputs": [],
   "source": [
    "pd.DataFrame(history.history).plot(figsize=(8, 5))\n",
    "plt.grid(True)\n",
    "plt.gca().set_ylim(0, 1) # set the vertical range to [0-1]\n",
    "plt.show()"
   ]
  },
  {
   "attachments": {},
   "cell_type": "markdown",
   "metadata": {},
   "source": [
    "##### **EVALUACION EN X_TEST**"
   ]
  },
  {
   "cell_type": "code",
   "execution_count": null,
   "metadata": {},
   "outputs": [],
   "source": [
    "results = model.evaluate(X_test,y_test)\n",
    "print(\"Métrica de test: loss y accuracy\", results)"
   ]
  },
  {
   "cell_type": "code",
   "execution_count": null,
   "metadata": {},
   "outputs": [],
   "source": [
    "model.predict(X_test).round(0)"
   ]
  },
  {
   "cell_type": "code",
   "execution_count": null,
   "metadata": {},
   "outputs": [],
   "source": [
    "predictions = model.predict(X_test[-1:]).round(0)"
   ]
  },
  {
   "cell_type": "code",
   "execution_count": null,
   "metadata": {},
   "outputs": [],
   "source": [
    "# MATRIZ DE CONFUCIÓN PARA EL CLASIFICADOR BINARIO\n",
    "\n",
    "confusion_matrix(y_train, model.predict(X_train).round(0))"
   ]
  },
  {
   "attachments": {},
   "cell_type": "markdown",
   "metadata": {},
   "source": [
    "##### **SAVE MODEL** "
   ]
  },
  {
   "cell_type": "code",
   "execution_count": null,
   "metadata": {},
   "outputs": [],
   "source": [
    "model.save(\"../models/model_cool.h5\") # model.save_weight() "
   ]
  },
  {
   "attachments": {},
   "cell_type": "markdown",
   "metadata": {},
   "source": [
    "##### **TESTING MODEL** "
   ]
  },
  {
   "cell_type": "code",
   "execution_count": null,
   "metadata": {},
   "outputs": [],
   "source": [
    "# image = imread('cito_test.png')\n",
    "# plt.imshow(image);\n",
    "\n",
    "# testing_image = np.array([cv2.resize(imread('./cito_test.png'),(IMAGE_WIDTH,IMAGE_HEIGHT))/255.0])\n",
    "# model.predict(testing_image)"
   ]
  }
 ],
 "metadata": {
  "kernelspec": {
   "display_name": "CodingSpace",
   "language": "python",
   "name": "python3"
  },
  "language_info": {
   "codemirror_mode": {
    "name": "ipython",
    "version": 3
   },
   "file_extension": ".py",
   "mimetype": "text/x-python",
   "name": "python",
   "nbconvert_exporter": "python",
   "pygments_lexer": "ipython3",
   "version": "3.7.16"
  },
  "orig_nbformat": 4
 },
 "nbformat": 4,
 "nbformat_minor": 2
}
